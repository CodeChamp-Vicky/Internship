{
 "cells": [
  {
   "cell_type": "markdown",
   "id": "766db8c5",
   "metadata": {},
   "source": [
    "# Question 11 - Program to find the factorial of a number"
   ]
  },
  {
   "cell_type": "code",
   "execution_count": null,
   "id": "77c8a968",
   "metadata": {},
   "outputs": [],
   "source": [
    "num = int(input(\"Enter any number to find the factorial of it :\")) # To take user input\n",
    "\n",
    "if num<0: # condition to check if entered value can be calculated as per mathematics\n",
    "    print(\"<<<---- Factorial of the Number you entered is not possible--->>>\")\n",
    "    \n",
    "else:\n",
    "    fact_num = 1 # variable is initialized to store value after calculation\n",
    "\n",
    "    for i in range(1,(num+1)): # loop to start from 1 and end at the entered number\n",
    "        fact_num = (fact_num*i) # formula to calculate factorial (succesive multiplication starting from 1 till the entered number)\n",
    "    \n",
    "print(\"Factorial of the number you entered is :\", fact_num) # printing the desired output"
   ]
  },
  {
   "cell_type": "markdown",
   "id": "078ef7a4",
   "metadata": {},
   "source": [
    "# Question 12 - Program to find whether a number is Prime or Composite"
   ]
  },
  {
   "cell_type": "code",
   "execution_count": null,
   "id": "39fdf3b5",
   "metadata": {},
   "outputs": [],
   "source": [
    "\n",
    "num1 = int(input(\"Enter any number to find whether it is a prime or a composite number :\")) # to take user input\n",
    "\n",
    "if num1<=0:  # Condition to check if the input is relevant\n",
    "    \n",
    "    print(\"!!!!  Warning  !!!!\")\n",
    "    print(\"*** Number You have entered is not a Natural Number ***\")\n",
    "    print(\"NOTE : 'Only Natural Numbers can be classified as Prime and Composite Numbers' *** \")\n",
    "    print(\"<<<--- Kindly Enter any Natural Number to check if it is a Prime number or a Composite number --->>>\")\n",
    "          \n",
    "elif num1==1: # Condition When 1 is entered as an input\n",
    "    print(\"<<<---- Your Number is Neither Prime Nor Composite ---->>>\")\n",
    "\n",
    "else:   # when any other natural number is given as input\n",
    "    \n",
    "    count = 0\n",
    "    for i in range(2, int((num1)+1)):\n",
    "        \n",
    "        if (num1)%i==0:\n",
    "            count+=1\n",
    "        \n",
    "    if count==1:\n",
    "        print(\"<<<-----Entered number is a Prime Number----->>>\")\n",
    "\n",
    "    else:\n",
    "        print(\"<<<-----Entered number is a Composite Number----->>>\")\n",
    "\n"
   ]
  },
  {
   "cell_type": "markdown",
   "id": "174800d7",
   "metadata": {},
   "source": [
    "# Question 13 - Program to find whether a String is a Palindrome or not"
   ]
  },
  {
   "cell_type": "code",
   "execution_count": null,
   "id": "dfef57bb",
   "metadata": {},
   "outputs": [],
   "source": [
    "in_string=input(\"Enter Any String of Your Choice :\") # to take string as an input from the user\n",
    "rev_string=\"\".join(reversed(in_string)) # to reverse the given string by using reversed function and join function is used to add the characters in an empty string\n",
    "\n",
    "if list(in_string)==list(rev_string):  # condition to check if the string is palindrome\n",
    "    \n",
    "    print(\"<<<---Your Entered String is '{}' and Reverse Of Your String is '{}'--->>>\\n<<<---Hence Your Entered String is A Palindrome--->>>\".format(in_string,rev_string))\n",
    "\n",
    "else:\n",
    "    print(\"<<<---Your Entered String is '{}' and Reverse Of Your String is '{}'--->>>\\n<<<---Hence Your Entered String is Not A Palindrome--->>>\".format(in_string,rev_string))\n",
    "        "
   ]
  },
  {
   "cell_type": "markdown",
   "id": "3dc863ac",
   "metadata": {},
   "source": [
    "# Question 14 - Program to get Third Side of the Right Angled Triangle from  Two Given Sides"
   ]
  },
  {
   "cell_type": "code",
   "execution_count": null,
   "id": "e19020f2",
   "metadata": {},
   "outputs": [],
   "source": [
    "from math import sqrt  # To use sqrt function from math library\n",
    "base=int(input(\"Enter Length of Base of Your Triangle :\")) # to take user input\n",
    "alt=int(input(\"Enter Altitude of Your Triangle :\"))   # to take user input\n",
    "hypo=round(sqrt(((base)**2)+(alt)**2),2)   # to calculate hypotenuse using pythagoras theorem\n",
    "if (base+alt)>hypo and (base+hypo)>alt and (alt+hypo)>base:   # to check if the inputs given are correct to be calculated\n",
    "    print(\"The Third Side i.e., Hypotenuse of Your Triangle is '{}'\".format(hypo))  # to print output\n",
    "else:\n",
    "    print(\"Please Enter Valid Lengths as The Lengths which You have Entered does not Make A Triangle Together\") # to print error while entering the lengths\n",
    " "
   ]
  },
  {
   "cell_type": "markdown",
   "id": "15848d3d",
   "metadata": {},
   "source": [
    "# Question 15 - Program to Calculate Frequency of A Given Character from a Given String"
   ]
  },
  {
   "cell_type": "code",
   "execution_count": null,
   "id": "b88aa90d",
   "metadata": {},
   "outputs": [],
   "source": [
    "string3= input(\"Enter Any String Of Your Choice :\")\n",
    "char1= input(\"Enter Any Character From The String To Find Its Frequency in The String : \")\n",
    "count=0\n",
    "for i in range(len(string3)):\n",
    "    if (char1) != \"\" and (char1) == (string3[i]).lower() or (char1) == (string3[i]).upper():\n",
    "        count+=1\n",
    "        \n",
    "if count>=1 and (char1)!=\" \":\n",
    "    print(\"Frequency Includes Occurence Of Both '{}' and '{}'\\nYour Entered Character is '{}' And It Appeared '{}' Time(s) In The Given String\".format((char1).lower(), char1.upper(), char1, count))\n",
    "elif count>=1 and (char1)== \" \":\n",
    "    print(\"You Have Entered A 'NULL' Character, Its Frequency is '{}'\".format(count))\n",
    "else:\n",
    "    print(\"Either You Have Entered Two Or More Characters Or The Character You Have Entered Is Not Present In The Above Mentioned String\")\n",
    "\n",
    "        \n",
    "        "
   ]
  }
 ],
 "metadata": {
  "kernelspec": {
   "display_name": "Python 3",
   "language": "python",
   "name": "python3"
  },
  "language_info": {
   "codemirror_mode": {
    "name": "ipython",
    "version": 3
   },
   "file_extension": ".py",
   "mimetype": "text/x-python",
   "name": "python",
   "nbconvert_exporter": "python",
   "pygments_lexer": "ipython3",
   "version": "3.8.8"
  }
 },
 "nbformat": 4,
 "nbformat_minor": 5
}
